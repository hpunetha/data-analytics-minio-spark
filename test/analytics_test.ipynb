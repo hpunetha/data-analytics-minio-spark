{
 "cells": [
  {
   "cell_type": "code",
   "execution_count": 2,
   "id": "e6e9b2ce-b464-44f2-bc2b-1c45d3a5d301",
   "metadata": {},
   "outputs": [],
   "source": [
    "import requests\n",
    "import json\n",
    "\n",
    "def fetch_countries_data():\n",
    "    # Using session is particularly beneficial if you are making multiple requests to the same server, \n",
    "    # as it can reuse the underlying TCP connection, \n",
    "    # leading to performance improvements.\n",
    "    with requests.Session() as session:\n",
    "        url = \"https://restcountries.com/v3.1/all\"\n",
    "        response = session.get(url)\n",
    "        response.raise_for_status()\n",
    "        \n",
    "        if response.status_code == 200:\n",
    "            return response.json()\n",
    "        else:\n",
    "            return f\"Error: {response.status_code}\"\n",
    "\n",
    "# Fetch and print data\n",
    "countries_data = fetch_countries_data()\n",
    "# print(type(countries_data))\n"
   ]
  },
  {
   "cell_type": "code",
   "execution_count": 4,
   "id": "7eb88742-255b-4934-92fa-81d5b1e140dc",
   "metadata": {},
   "outputs": [],
   "source": [
    "import os\n",
    "os.environ[\"MINIO_KEY\"] = \"minio\"\n",
    "os.environ[\"MINIO_SECRET\"] = \"minio123\""
   ]
  },
  {
   "cell_type": "code",
   "execution_count": 12,
   "id": "f9306146-ed66-4547-86c9-fc039f856d94",
   "metadata": {},
   "outputs": [
    {
     "name": "stdout",
     "output_type": "stream",
     "text": [
      "Collecting minio\n",
      "  Downloading minio-7.2.0-py3-none-any.whl.metadata (4.3 kB)\n",
      "Requirement already satisfied: certifi in /opt/conda/lib/python3.11/site-packages (from minio) (2023.7.22)\n",
      "Requirement already satisfied: urllib3 in /opt/conda/lib/python3.11/site-packages (from minio) (2.0.7)\n",
      "Requirement already satisfied: argon2-cffi in /opt/conda/lib/python3.11/site-packages (from minio) (23.1.0)\n",
      "Collecting pycryptodome (from minio)\n",
      "  Downloading pycryptodome-3.19.0-cp35-abi3-manylinux_2_17_x86_64.manylinux2014_x86_64.whl.metadata (3.4 kB)\n",
      "Requirement already satisfied: argon2-cffi-bindings in /opt/conda/lib/python3.11/site-packages (from argon2-cffi->minio) (21.2.0)\n",
      "Requirement already satisfied: cffi>=1.0.1 in /opt/conda/lib/python3.11/site-packages (from argon2-cffi-bindings->argon2-cffi->minio) (1.16.0)\n",
      "Requirement already satisfied: pycparser in /opt/conda/lib/python3.11/site-packages (from cffi>=1.0.1->argon2-cffi-bindings->argon2-cffi->minio) (2.21)\n",
      "Downloading minio-7.2.0-py3-none-any.whl (83 kB)\n",
      "\u001b[2K   \u001b[90m━━━━━━━━━━━━━━━━━━━━━━━━━━━━━━━━━━━━━━━━\u001b[0m \u001b[32m83.5/83.5 kB\u001b[0m \u001b[31m2.1 MB/s\u001b[0m eta \u001b[36m0:00:00\u001b[0m:00:01\u001b[0m\n",
      "\u001b[?25hDownloading pycryptodome-3.19.0-cp35-abi3-manylinux_2_17_x86_64.manylinux2014_x86_64.whl (2.1 MB)\n",
      "\u001b[2K   \u001b[90m━━━━━━━━━━━━━━━━━━━━━━━━━━━━━━━━━━━━━━━━\u001b[0m \u001b[32m2.1/2.1 MB\u001b[0m \u001b[31m2.8 MB/s\u001b[0m eta \u001b[36m0:00:00\u001b[0m00:01\u001b[0m00:01\u001b[0mm\n",
      "\u001b[?25hInstalling collected packages: pycryptodome, minio\n",
      "Successfully installed minio-7.2.0 pycryptodome-3.19.0\n"
     ]
    }
   ],
   "source": [
    "!pip install minio"
   ]
  },
  {
   "cell_type": "code",
   "execution_count": 13,
   "id": "6f529194-b5c6-4572-b887-b083c287c412",
   "metadata": {},
   "outputs": [
    {
     "name": "stdout",
     "output_type": "stream",
     "text": [
      "Collecting s3fs\n",
      "  Downloading s3fs-2023.12.2-py3-none-any.whl.metadata (1.6 kB)\n",
      "Collecting aiobotocore<3.0.0,>=2.5.4 (from s3fs)\n",
      "  Downloading aiobotocore-2.9.0-py3-none-any.whl.metadata (20 kB)\n",
      "Collecting fsspec==2023.12.2 (from s3fs)\n",
      "  Downloading fsspec-2023.12.2-py3-none-any.whl.metadata (6.8 kB)\n",
      "Collecting aiohttp!=4.0.0a0,!=4.0.0a1 (from s3fs)\n",
      "  Downloading aiohttp-3.9.1-cp311-cp311-manylinux_2_17_x86_64.manylinux2014_x86_64.whl.metadata (7.4 kB)\n",
      "Collecting botocore<1.33.14,>=1.33.2 (from aiobotocore<3.0.0,>=2.5.4->s3fs)\n",
      "  Downloading botocore-1.33.13-py3-none-any.whl.metadata (6.1 kB)\n",
      "Collecting wrapt<2.0.0,>=1.10.10 (from aiobotocore<3.0.0,>=2.5.4->s3fs)\n",
      "  Downloading wrapt-1.16.0-cp311-cp311-manylinux_2_5_x86_64.manylinux1_x86_64.manylinux_2_17_x86_64.manylinux2014_x86_64.whl.metadata (6.6 kB)\n",
      "Collecting aioitertools<1.0.0,>=0.5.1 (from aiobotocore<3.0.0,>=2.5.4->s3fs)\n",
      "  Downloading aioitertools-0.11.0-py3-none-any.whl (23 kB)\n",
      "Requirement already satisfied: attrs>=17.3.0 in /opt/conda/lib/python3.11/site-packages (from aiohttp!=4.0.0a0,!=4.0.0a1->s3fs) (23.1.0)\n",
      "Collecting multidict<7.0,>=4.5 (from aiohttp!=4.0.0a0,!=4.0.0a1->s3fs)\n",
      "  Downloading multidict-6.0.4-cp311-cp311-manylinux_2_17_x86_64.manylinux2014_x86_64.whl (117 kB)\n",
      "\u001b[2K     \u001b[90m━━━━━━━━━━━━━━━━━━━━━━━━━━━━━━━━━━━━━━━\u001b[0m \u001b[32m117.4/117.4 kB\u001b[0m \u001b[31m4.3 MB/s\u001b[0m eta \u001b[36m0:00:00\u001b[0m\n",
      "\u001b[?25hCollecting yarl<2.0,>=1.0 (from aiohttp!=4.0.0a0,!=4.0.0a1->s3fs)\n",
      "  Downloading yarl-1.9.4-cp311-cp311-manylinux_2_17_x86_64.manylinux2014_x86_64.whl.metadata (31 kB)\n",
      "Collecting frozenlist>=1.1.1 (from aiohttp!=4.0.0a0,!=4.0.0a1->s3fs)\n",
      "  Downloading frozenlist-1.4.1-cp311-cp311-manylinux_2_5_x86_64.manylinux1_x86_64.manylinux_2_17_x86_64.manylinux2014_x86_64.whl.metadata (12 kB)\n",
      "Collecting aiosignal>=1.1.2 (from aiohttp!=4.0.0a0,!=4.0.0a1->s3fs)\n",
      "  Downloading aiosignal-1.3.1-py3-none-any.whl (7.6 kB)\n",
      "Collecting jmespath<2.0.0,>=0.7.1 (from botocore<1.33.14,>=1.33.2->aiobotocore<3.0.0,>=2.5.4->s3fs)\n",
      "  Downloading jmespath-1.0.1-py3-none-any.whl (20 kB)\n",
      "Requirement already satisfied: python-dateutil<3.0.0,>=2.1 in /opt/conda/lib/python3.11/site-packages (from botocore<1.33.14,>=1.33.2->aiobotocore<3.0.0,>=2.5.4->s3fs) (2.8.2)\n",
      "Requirement already satisfied: urllib3<2.1,>=1.25.4 in /opt/conda/lib/python3.11/site-packages (from botocore<1.33.14,>=1.33.2->aiobotocore<3.0.0,>=2.5.4->s3fs) (2.0.7)\n",
      "Requirement already satisfied: idna>=2.0 in /opt/conda/lib/python3.11/site-packages (from yarl<2.0,>=1.0->aiohttp!=4.0.0a0,!=4.0.0a1->s3fs) (3.4)\n",
      "Requirement already satisfied: six>=1.5 in /opt/conda/lib/python3.11/site-packages (from python-dateutil<3.0.0,>=2.1->botocore<1.33.14,>=1.33.2->aiobotocore<3.0.0,>=2.5.4->s3fs) (1.16.0)\n",
      "Downloading s3fs-2023.12.2-py3-none-any.whl (28 kB)\n",
      "Downloading fsspec-2023.12.2-py3-none-any.whl (168 kB)\n",
      "\u001b[2K   \u001b[90m━━━━━━━━━━━━━━━━━━━━━━━━━━━━━━━━━━━━━━━━\u001b[0m \u001b[32m169.0/169.0 kB\u001b[0m \u001b[31m1.7 MB/s\u001b[0m eta \u001b[36m0:00:00\u001b[0ma \u001b[36m0:00:01\u001b[0m\n",
      "\u001b[?25hDownloading aiobotocore-2.9.0-py3-none-any.whl (75 kB)\n",
      "\u001b[2K   \u001b[90m━━━━━━━━━━━━━━━━━━━━━━━━━━━━━━━━━━━━━━━━\u001b[0m \u001b[32m76.0/76.0 kB\u001b[0m \u001b[31m978.2 kB/s\u001b[0m eta \u001b[36m0:00:00\u001b[0m\u001b[36m0:00:01\u001b[0m\n",
      "\u001b[?25hDownloading aiohttp-3.9.1-cp311-cp311-manylinux_2_17_x86_64.manylinux2014_x86_64.whl (1.3 MB)\n",
      "\u001b[2K   \u001b[90m━━━━━━━━━━━━━━━━━━━━━━━━━━━━━━━━━━━━━━━━\u001b[0m \u001b[32m1.3/1.3 MB\u001b[0m \u001b[31m2.9 MB/s\u001b[0m eta \u001b[36m0:00:00\u001b[0m00:01\u001b[0m00:01\u001b[0m\n",
      "\u001b[?25hDownloading botocore-1.33.13-py3-none-any.whl (11.8 MB)\n",
      "\u001b[2K   \u001b[90m━━━━━━━━━━━━━━━━━━━━━━━━━━━━━━━━━━━━━━━━\u001b[0m \u001b[32m11.8/11.8 MB\u001b[0m \u001b[31m2.1 MB/s\u001b[0m eta \u001b[36m0:00:00\u001b[0m00:01\u001b[0m00:01\u001b[0m\n",
      "\u001b[?25hDownloading frozenlist-1.4.1-cp311-cp311-manylinux_2_5_x86_64.manylinux1_x86_64.manylinux_2_17_x86_64.manylinux2014_x86_64.whl (272 kB)\n",
      "\u001b[2K   \u001b[90m━━━━━━━━━━━━━━━━━━━━━━━━━━━━━━━━━━━━━━━━\u001b[0m \u001b[32m272.3/272.3 kB\u001b[0m \u001b[31m2.5 MB/s\u001b[0m eta \u001b[36m0:00:00\u001b[0m00:01\u001b[0m00:01\u001b[0m\n",
      "\u001b[?25hDownloading wrapt-1.16.0-cp311-cp311-manylinux_2_5_x86_64.manylinux1_x86_64.manylinux_2_17_x86_64.manylinux2014_x86_64.whl (80 kB)\n",
      "\u001b[2K   \u001b[90m━━━━━━━━━━━━━━━━━━━━━━━━━━━━━━━━━━━━━━━━\u001b[0m \u001b[32m80.7/80.7 kB\u001b[0m \u001b[31m2.5 MB/s\u001b[0m eta \u001b[36m0:00:00\u001b[0m\n",
      "\u001b[?25hDownloading yarl-1.9.4-cp311-cp311-manylinux_2_17_x86_64.manylinux2014_x86_64.whl (328 kB)\n",
      "\u001b[2K   \u001b[90m━━━━━━━━━━━━━━━━━━━━━━━━━━━━━━━━━━━━━━━━\u001b[0m \u001b[32m328.1/328.1 kB\u001b[0m \u001b[31m1.7 MB/s\u001b[0m eta \u001b[36m0:00:00\u001b[0m00:01\u001b[0m00:01\u001b[0m\n",
      "\u001b[?25hInstalling collected packages: wrapt, multidict, jmespath, fsspec, frozenlist, aioitertools, yarl, botocore, aiosignal, aiohttp, aiobotocore, s3fs\n",
      "  Attempting uninstall: fsspec\n",
      "    Found existing installation: fsspec 2023.9.2\n",
      "    Uninstalling fsspec-2023.9.2:\n",
      "      Successfully uninstalled fsspec-2023.9.2\n",
      "Successfully installed aiobotocore-2.9.0 aiohttp-3.9.1 aioitertools-0.11.0 aiosignal-1.3.1 botocore-1.33.13 frozenlist-1.4.1 fsspec-2023.12.2 jmespath-1.0.1 multidict-6.0.4 s3fs-2023.12.2 wrapt-1.16.0 yarl-1.9.4\n"
     ]
    }
   ],
   "source": [
    "!pip install s3fs"
   ]
  },
  {
   "cell_type": "code",
   "execution_count": 6,
   "id": "83f3ff0e-a642-47f6-9d87-afc3a55ae690",
   "metadata": {},
   "outputs": [],
   "source": [
    "from minio import Minio\n",
    "import pandas as pd\n",
    "import s3fs\n",
    "\n",
    "fs = s3fs.S3FileSystem(\n",
    "    client_kwargs={'endpoint_url': 'http://minio1:9000'},\n",
    "    key=os.environ[\"MINIO_KEY\"],\n",
    "    secret=os.environ[\"MINIO_SECRET\"],\n",
    "    use_ssl=False  # Set to True if MinIO is set up with SSL\n",
    ")"
   ]
  },
  {
   "cell_type": "code",
   "execution_count": 7,
   "id": "f8b6089e-c8d8-4c75-8d87-f5addfb70fd4",
   "metadata": {},
   "outputs": [],
   "source": [
    "with fs.open('mybucket/data.json', 'w', encoding='utf-8') as f:\n",
    "    json.dump(countries_data,f)"
   ]
  },
  {
   "cell_type": "code",
   "execution_count": 1,
   "id": "b8e39e96-3098-4aa7-ba9a-36398f5b99c6",
   "metadata": {},
   "outputs": [],
   "source": [
    "import pyspark\n",
    "from pyspark.sql import SparkSession\n",
    "from pyspark import SparkContext\n",
    "import pyspark.sql.functions as F\n",
    "\n",
    "spark = SparkSession.builder \\\n",
    "    .appName(\"MinIO Test\") \\\n",
    "    .config(\"spark.jars.packages\", \"org.apache.hadoop:hadoop-aws:3.3.4,com.amazonaws:aws-java-sdk-bundle:1.11.1026\") \\\n",
    "    .config(\"spark.hadoop.fs.s3a.endpoint\", \"http://minio1:9000\") \\\n",
    "    .config(\"spark.hadoop.fs.s3a.access.key\", \"minio\") \\\n",
    "    .config(\"spark.hadoop.fs.s3a.secret.key\", \"minio123\") \\\n",
    "    .config(\"spark.hadoop.fs.s3a.path.style.access\", \"true\") \\\n",
    "    .config(\"spark.hadoop.fs.s3a.impl\", \"org.apache.hadoop.fs.s3a.S3AFileSystem\") \\\n",
    "    .enableHiveSupport() \\\n",
    "    .getOrCreate()"
   ]
  },
  {
   "cell_type": "code",
   "execution_count": 10,
   "id": "146ddb8e-f0ed-4894-a2e8-e0583a741831",
   "metadata": {},
   "outputs": [],
   "source": [
    "df = spark.read.option(\"inferSchema\",True).json(\"s3a://mybucket/data.json\")"
   ]
  },
  {
   "cell_type": "code",
   "execution_count": 15,
   "id": "ce4ebcfc-107e-419a-91bb-17bde6956f35",
   "metadata": {},
   "outputs": [],
   "source": [
    "# df.printSchema()"
   ]
  },
  {
   "cell_type": "code",
   "execution_count": 12,
   "id": "159371ea-d36c-49c0-a031-58329b13ef6c",
   "metadata": {},
   "outputs": [
    {
     "data": {
      "text/plain": [
       "250"
      ]
     },
     "execution_count": 12,
     "metadata": {},
     "output_type": "execute_result"
    }
   ],
   "source": [
    "df.count()"
   ]
  },
  {
   "cell_type": "code",
   "execution_count": 14,
   "id": "1710e64e-c1d5-45fa-a631-4afe83af469e",
   "metadata": {},
   "outputs": [],
   "source": [
    "# df.show(2,truncate = False)"
   ]
  },
  {
   "cell_type": "code",
   "execution_count": 16,
   "id": "ee9b2526-80c5-4995-a2a0-3548800cf954",
   "metadata": {},
   "outputs": [],
   "source": [
    "df.write.mode(\"overwrite\").format(\"parquet\").save(\"s3a://mybucket/raw_data.parquet\")"
   ]
  },
  {
   "cell_type": "code",
   "execution_count": 2,
   "id": "57dbce0f-f68c-4667-a3f5-1991c8063d01",
   "metadata": {},
   "outputs": [
    {
     "data": {
      "text/plain": [
       "250"
      ]
     },
     "execution_count": 2,
     "metadata": {},
     "output_type": "execute_result"
    }
   ],
   "source": [
    "raw_data = spark.read.parquet(\"s3a://mybucket/raw_data.parquet\")\n",
    "raw_data.count()"
   ]
  },
  {
   "cell_type": "code",
   "execution_count": 9,
   "id": "a1c28d92-d754-4232-9464-8cd522b46106",
   "metadata": {},
   "outputs": [
    {
     "name": "stdout",
     "output_type": "stream",
     "text": [
      "root\n",
      " |-- cntry_name: string (nullable = true)\n",
      " |-- cntry_area: double (nullable = true)\n",
      " |-- border_cntry: array (nullable = true)\n",
      " |    |-- element: string (containsNull = true)\n",
      " |-- capital_cities: array (nullable = true)\n",
      " |    |-- element: string (containsNull = true)\n",
      " |-- cntry_continent: array (nullable = true)\n",
      " |    |-- element: string (containsNull = true)\n",
      " |-- is_landlocked: boolean (nullable = true)\n",
      " |-- population: long (nullable = true)\n",
      " |-- startOfWeek: string (nullable = true)\n",
      " |-- nr_timezones: array (nullable = true)\n",
      " |    |-- element: string (containsNull = true)\n",
      " |-- is_unmember: boolean (nullable = true)\n",
      "\n"
     ]
    }
   ],
   "source": [
    "transformed_data = (\n",
    "    raw_data.selectExpr(\n",
    "        \"name.common as cntry_name\",\n",
    "        \"area as cntry_area\",\n",
    "        \"borders as border_cntry\",\n",
    "        \"capital as capital_cities\",\n",
    "        \"continents as cntry_continent\",\n",
    "        \"landlocked as is_landlocked\",\n",
    "        \"population\",\n",
    "        \"startOfWeek\",\n",
    "        \"timezones as nr_timezones\",\n",
    "        \"unMember as is_unmember\"\n",
    "    )\n",
    ")\n",
    "transformed_data.printSchema()"
   ]
  },
  {
   "cell_type": "code",
   "execution_count": 10,
   "id": "f994f1b5-5e8c-489d-a04a-eb269296169d",
   "metadata": {},
   "outputs": [
    {
     "name": "stdout",
     "output_type": "stream",
     "text": [
      "+----------------+----------+-------------------------+------------------+---------------+-------------+----------+-----------+---------------------------------+-----------+\n",
      "|cntry_name      |cntry_area|border_cntry             |capital_cities    |cntry_continent|is_landlocked|population|startOfWeek|nr_timezones                     |is_unmember|\n",
      "+----------------+----------+-------------------------+------------------+---------------+-------------+----------+-----------+---------------------------------+-----------+\n",
      "|Christmas Island|135.0     |NULL                     |[Flying Fish Cove]|[Asia]         |false        |2072      |monday     |[UTC+07:00]                      |false      |\n",
      "|Eritrea         |117600.0  |[DJI, ETH, SDN]          |[Asmara]          |[Africa]       |false        |5352000   |monday     |[UTC+03:00]                      |true       |\n",
      "|Samoa           |2842.0    |NULL                     |[Apia]            |[Oceania]      |false        |198410    |monday     |[UTC+13:00]                      |true       |\n",
      "|North Macedonia |25713.0   |[ALB, BGR, GRC, UNK, SRB]|[Skopje]          |[Europe]       |true         |2077132   |monday     |[UTC+01:00]                      |true       |\n",
      "|Djibouti        |23200.0   |[ERI, ETH, SOM]          |[Djibouti]        |[Africa]       |false        |988002    |monday     |[UTC+03:00]                      |true       |\n",
      "|Jordan          |89342.0   |[IRQ, ISR, PSE, SAU, SYR]|[Amman]           |[Asia]         |false        |10203140  |sunday     |[UTC+03:00]                      |true       |\n",
      "|Pakistan        |881912.0  |[AFG, CHN, IND, IRN]     |[Islamabad]       |[Asia]         |false        |220892331 |monday     |[UTC+05:00]                      |true       |\n",
      "|French Polynesia|4167.0    |NULL                     |[Papeetē]         |[Oceania]      |false        |280904    |monday     |[UTC-10:00, UTC-09:30, UTC-09:00]|false      |\n",
      "|Ireland         |70273.0   |[GBR]                    |[Dublin]          |[Europe]       |false        |4994724   |monday     |[UTC]                            |true       |\n",
      "|Mauritania      |1030700.0 |[DZA, MLI, SEN, ESH]     |[Nouakchott]      |[Africa]       |false        |4649660   |monday     |[UTC]                            |true       |\n",
      "+----------------+----------+-------------------------+------------------+---------------+-------------+----------+-----------+---------------------------------+-----------+\n",
      "only showing top 10 rows\n",
      "\n"
     ]
    }
   ],
   "source": [
    "transformed_data.show(10,truncate = False)"
   ]
  },
  {
   "cell_type": "code",
   "execution_count": 11,
   "id": "c6935d0f-34f9-4017-857e-98769c39572d",
   "metadata": {},
   "outputs": [],
   "source": [
    "transformed_data.write.mode(\"overwrite\").format(\"parquet\").save(\"s3a://mybucket/trnsfm_data.parquet\")"
   ]
  },
  {
   "cell_type": "code",
   "execution_count": 12,
   "id": "95563b5d-1285-4317-8218-326dfc2f064b",
   "metadata": {},
   "outputs": [
    {
     "name": "stdout",
     "output_type": "stream",
     "text": [
      "++\n",
      "||\n",
      "++\n",
      "++\n",
      "\n"
     ]
    }
   ],
   "source": [
    "spark.sql(\"\"\"\n",
    "CREATE EXTERNAL TABLE country_data (\n",
    "    cntry_name STRING,\n",
    "    cntry_area DOUBLE,\n",
    "    border_cntry ARRAY<STRING>,\n",
    "    capital_cities ARRAY<STRING>,\n",
    "    cntry_continent ARRAY<STRING>,\n",
    "    is_landlocked BOOLEAN,\n",
    "    population BIGINT,\n",
    "    startOfWeek STRING,\n",
    "    nr_timezones ARRAY<STRING>,\n",
    "    is_unmember BOOLEAN\n",
    ")\n",
    "STORED AS PARQUET\n",
    "LOCATION 's3a://mybucket/trnsfm_data.parquet';\n",
    "\"\"\").show()"
   ]
  },
  {
   "cell_type": "code",
   "execution_count": 13,
   "id": "ee32fc75-1bab-4eca-a86a-5ae25174697c",
   "metadata": {},
   "outputs": [
    {
     "name": "stdout",
     "output_type": "stream",
     "text": [
      "+---------+\n",
      "|namespace|\n",
      "+---------+\n",
      "|  default|\n",
      "+---------+\n",
      "\n"
     ]
    }
   ],
   "source": [
    "spark.sql(\"show databases\").show()"
   ]
  },
  {
   "cell_type": "code",
   "execution_count": 18,
   "id": "1386473b-8900-4e8b-a892-0a19c68f677c",
   "metadata": {},
   "outputs": [
    {
     "name": "stdout",
     "output_type": "stream",
     "text": [
      "+----------------------------+--------------------------------------------------------------+-------+\n",
      "|col_name                    |data_type                                                     |comment|\n",
      "+----------------------------+--------------------------------------------------------------+-------+\n",
      "|cntry_name                  |string                                                        |NULL   |\n",
      "|cntry_area                  |double                                                        |NULL   |\n",
      "|border_cntry                |array<string>                                                 |NULL   |\n",
      "|capital_cities              |array<string>                                                 |NULL   |\n",
      "|cntry_continent             |array<string>                                                 |NULL   |\n",
      "|is_landlocked               |boolean                                                       |NULL   |\n",
      "|population                  |bigint                                                        |NULL   |\n",
      "|startOfWeek                 |string                                                        |NULL   |\n",
      "|nr_timezones                |array<string>                                                 |NULL   |\n",
      "|is_unmember                 |boolean                                                       |NULL   |\n",
      "|                            |                                                              |       |\n",
      "|# Detailed Table Information|                                                              |       |\n",
      "|Catalog                     |spark_catalog                                                 |       |\n",
      "|Database                    |default                                                       |       |\n",
      "|Table                       |country_data                                                  |       |\n",
      "|Owner                       |jovyan                                                        |       |\n",
      "|Created Time                |Mon Dec 18 19:22:10 UTC 2023                                  |       |\n",
      "|Last Access                 |UNKNOWN                                                       |       |\n",
      "|Created By                  |Spark 3.5.0                                                   |       |\n",
      "|Type                        |EXTERNAL                                                      |       |\n",
      "|Provider                    |hive                                                          |       |\n",
      "|Table Properties            |[transient_lastDdlTime=1702927330]                            |       |\n",
      "|Statistics                  |14019 bytes                                                   |       |\n",
      "|Location                    |s3a://mybucket/trnsfm_data.parquet                            |       |\n",
      "|Serde Library               |org.apache.hadoop.hive.ql.io.parquet.serde.ParquetHiveSerDe   |       |\n",
      "|InputFormat                 |org.apache.hadoop.hive.ql.io.parquet.MapredParquetInputFormat |       |\n",
      "|OutputFormat                |org.apache.hadoop.hive.ql.io.parquet.MapredParquetOutputFormat|       |\n",
      "|Storage Properties          |[serialization.format=1]                                      |       |\n",
      "|Partition Provider          |Catalog                                                       |       |\n",
      "+----------------------------+--------------------------------------------------------------+-------+\n",
      "\n"
     ]
    }
   ],
   "source": [
    "spark.sql(\"DESCRIBE EXTENDED default.country_data\").show(100,truncate = False)"
   ]
  },
  {
   "cell_type": "code",
   "execution_count": 21,
   "id": "dd620e83-0841-4879-ad6e-fd510b7877dd",
   "metadata": {},
   "outputs": [],
   "source": [
    "# raw_data.printSchema()"
   ]
  },
  {
   "cell_type": "code",
   "execution_count": null,
   "id": "f5748dc6-14f8-4480-a5c5-d8998ce55abc",
   "metadata": {},
   "outputs": [],
   "source": []
  },
  {
   "cell_type": "code",
   "execution_count": 8,
   "id": "22793945-0d7c-4194-99fb-7c04b5575a4c",
   "metadata": {},
   "outputs": [],
   "source": [
    "# import os\n",
    "\n",
    "# # Retrieve all environment variables\n",
    "# environment_variables = os.environ\n",
    "\n",
    "# # Print each environment variable\n",
    "# for key, value in environment_variables.items():\n",
    "#     print(f\"{key}: {value}\")"
   ]
  }
 ],
 "metadata": {
  "kernelspec": {
   "display_name": "Python 3 (ipykernel)",
   "language": "python",
   "name": "python3"
  },
  "language_info": {
   "codemirror_mode": {
    "name": "ipython",
    "version": 3
   },
   "file_extension": ".py",
   "mimetype": "text/x-python",
   "name": "python",
   "nbconvert_exporter": "python",
   "pygments_lexer": "ipython3",
   "version": "3.11.6"
  }
 },
 "nbformat": 4,
 "nbformat_minor": 5
}
